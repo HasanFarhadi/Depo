{
 "cells": [
  {
   "cell_type": "code",
   "execution_count": 56,
   "metadata": {},
   "outputs": [],
   "source": [
    "import os\n",
    "os.environ[\"KMP_DUPLICATE_LIB_OK\"]=\"TRUE\"\n"
   ]
  },
  {
   "cell_type": "code",
   "execution_count": 57,
   "metadata": {},
   "outputs": [],
   "source": [
    "import numpy as np\n",
    "import pandas as pd\n",
    "import scipy as sp\n",
    "import mne\n",
    "import keras\n",
    "import matplotlib.pyplot as plt\n",
    "import tensorflow as tf\n",
    "\n",
    "from keras.models import Sequential\n",
    "from keras.layers import LSTM,Dense ,GRU,SimpleRNN,Conv1D,MaxPooling1D,Flatten , Dropout, BatchNormalization\n",
    "from keras.optimizers import Adam\n",
    "from sklearn.model_selection import train_test_split\n",
    "\n",
    "tf.compat.v1.disable_eager_execution()\n",
    "\n",
    "from torch import optim\n",
    "import argparse\n",
    "import os\n",
    "import pickle\n",
    "import shutil\n",
    "from random import random\n",
    "from torch.utils.data import DataLoader, Dataset\n",
    "from torch.nn.utils.rnn import pad_sequence, pack_padded_sequence, pad_packed_sequence\n",
    "import torch\n",
    "import torch.nn as nn\n",
    "from torch.nn import functional as F"
   ]
  },
  {
   "cell_type": "code",
   "execution_count": 58,
   "metadata": {},
   "outputs": [],
   "source": [
    "def PrePadding(data, seglength):\n",
    "    pad = (-len(data)) % seglength\n",
    "    l = np.concatenate((data,np.zeros((pad, len(data[0])))))\n",
    "    return l"
   ]
  },
  {
   "cell_type": "code",
   "execution_count": 59,
   "metadata": {},
   "outputs": [],
   "source": [
    "def to_gpu(x, on_cpu=False, gpu_id=None):\n",
    "\n",
    "    if torch.cuda.is_available() and not on_cpu:\n",
    "        x = x.cuda(gpu_id)\n",
    "    return x"
   ]
  },
  {
   "cell_type": "code",
   "execution_count": 60,
   "metadata": {},
   "outputs": [
    {
     "name": "stdout",
     "output_type": "stream",
     "text": [
      "raw data shape: (1881497, 20)\n",
      "segment list shape:(53, 36000, 20)\n"
     ]
    }
   ],
   "source": [
    "ARDF = pd.read_csv(r\"C:\\Users\\admin\\Desktop\\test excel\\LB.csv\", header= None, skiprows=2)\n",
    "AR = np.array(ARDF)\n",
    "print(f\"raw data shape: {np.shape(AR)}\")\n",
    "seglength = 36000\n",
    "newar = PrePadding(AR, seglength)\n",
    "IGEsegs = np.array(np.split(newar, seglength)).reshape(-1, seglength, 20)\n",
    "print(f\"segment list shape:{np.shape(IGEsegs)}\")\n",
    "IGE_labels = np.ones(np.shape(IGEsegs)[0]).reshape(-1)\n"
   ]
  },
  {
   "cell_type": "code",
   "execution_count": 61,
   "metadata": {},
   "outputs": [
    {
     "name": "stdout",
     "output_type": "stream",
     "text": [
      "raw data shape: (1964747, 20)\n",
      "segment list shape:(55, 36000, 20)\n"
     ]
    }
   ],
   "source": [
    "ARDF = pd.read_csv(r\"C:\\Users\\admin\\Desktop\\test excel\\pnes.csv\", header= None, skiprows=2)\n",
    "AR = np.array(ARDF)\n",
    "print(f\"raw data shape: {np.shape(AR)}\")\n",
    "seglength = 36000\n",
    "newar = PrePadding(AR, seglength)\n",
    "PNESsegs = np.array(np.split(newar, seglength)).reshape(-1, seglength, 20)\n",
    "print(f\"segment list shape:{np.shape(PNESsegs)}\")\n",
    "PNES_labels = np.zeros(np.shape(PNESsegs)[0]).reshape(-1)\n"
   ]
  },
  {
   "cell_type": "code",
   "execution_count": 62,
   "metadata": {},
   "outputs": [],
   "source": [
    "x = np.append(IGEsegs, PNESsegs, axis=0)\n",
    "y = np.append(IGE_labels, PNES_labels)\n",
    "xx = to_gpu(torch.from_numpy(x))\n",
    "yy = to_gpu(torch.from_numpy(y))"
   ]
  },
  {
   "cell_type": "code",
   "execution_count": 66,
   "metadata": {},
   "outputs": [],
   "source": [
    "class Model(nn.Module):\n",
    "    def __init__(self):\n",
    "        super(Model, self).__init__()\n",
    "        self.output_size = 1\n",
    "\n",
    "        rnn = nn.LSTM\n",
    "        self.eeg_rnn = rnn(2548, 256, bidirectional=False)\n",
    "        self.eeg_rnn.add_module('eeg_rnn_dropout', nn.Dropout(0.2))\n",
    "        self.eeg_rnn.add_module('eeg_rnn', rnn(256, 256,bidirectional=False))\n",
    "        self.eeg_rnn.add_module('eeg_rnn_dropout2', nn.Dropout(0.2))\n",
    "\n",
    "        self.project = nn.Sequential()\n",
    "        self.project.add_module('project', \n",
    "                nn.Linear(in_features=256, out_features=self.output_size))\n",
    "        self.project.add_module('project_activation', \n",
    "                                                nn.ReLU())\n",
    "        self.project.add_module('project_softmax', nn.Softmax())\n",
    "    \n",
    "    def forward(self, eeg_samples):\n",
    "        batch_size=eeg_samples.size(1)\n",
    "        h1, (h2, _) = self.eeg_rnn(eeg_samples)\n",
    "        eeg_feats = self.project(h1.view(batch_size,-1))\n",
    "        return eeg_feats"
   ]
  },
  {
   "cell_type": "code",
   "execution_count": 65,
   "metadata": {},
   "outputs": [
    {
     "data": {
      "text/plain": [
       "36000"
      ]
     },
     "execution_count": 65,
     "metadata": {},
     "output_type": "execute_result"
    }
   ],
   "source": [
    "xx.size(1)"
   ]
  }
 ],
 "metadata": {
  "kernelspec": {
   "display_name": "base",
   "language": "python",
   "name": "python3"
  },
  "language_info": {
   "codemirror_mode": {
    "name": "ipython",
    "version": 3
   },
   "file_extension": ".py",
   "mimetype": "text/x-python",
   "name": "python",
   "nbconvert_exporter": "python",
   "pygments_lexer": "ipython3",
   "version": "3.9.13"
  },
  "orig_nbformat": 4,
  "vscode": {
   "interpreter": {
    "hash": "610a6f344c2137faf927ea819c63f6cee33a2c04455044b28099f39fe9722347"
   }
  }
 },
 "nbformat": 4,
 "nbformat_minor": 2
}
