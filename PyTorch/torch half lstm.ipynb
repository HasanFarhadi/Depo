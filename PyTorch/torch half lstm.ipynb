{
 "cells": [
  {
   "cell_type": "code",
   "execution_count": 29,
   "metadata": {},
   "outputs": [],
   "source": [
    "import os\n",
    "os.environ[\"KMP_DUPLICATE_LIB_OK\"]=\"TRUE\""
   ]
  },
  {
   "cell_type": "code",
   "execution_count": 30,
   "metadata": {},
   "outputs": [],
   "source": [
    "import numpy as np\n",
    "import pandas as pd\n",
    "import matplotlib.pyplot as plt\n",
    "from copy import deepcopy\n",
    "\n",
    "import torch \n",
    "import torch.nn.functional as F\n",
    "import torch.autograd as autograd\n",
    "import torch.nn as nn\n",
    "from sklearn.model_selection import train_test_split\n",
    "\n"
   ]
  },
  {
   "cell_type": "code",
   "execution_count": 31,
   "metadata": {},
   "outputs": [],
   "source": [
    "DEVICE = torch.device('cuda:0' if torch.cuda.is_available() else 'cpu')"
   ]
  },
  {
   "cell_type": "code",
   "execution_count": 32,
   "metadata": {},
   "outputs": [],
   "source": [
    "def PrePadding(data, seglength):\n",
    "    pad = (-len(data)) % seglength\n",
    "    l = np.concatenate((data,np.zeros((pad, len(data[0])))))\n",
    "    return l"
   ]
  },
  {
   "cell_type": "code",
   "execution_count": 33,
   "metadata": {},
   "outputs": [],
   "source": [
    "def split_to_epochs(data, seglength):\n",
    "    data = PrePadding(data, seglength)\n",
    "    data = np.array(np.split(data, seglength)).reshape(-1, seglength, data.shape[-1])\n",
    "    return data"
   ]
  },
  {
   "cell_type": "code",
   "execution_count": 34,
   "metadata": {},
   "outputs": [],
   "source": [
    "df1 = deepcopy(pd.read_csv(r\"D:\\Clean Data\\Focal\\ALAHYARI\\LB.csv\", skiprows=2, header=None))\n",
    "df2 = deepcopy(pd.read_csv(r\"D:\\Clean Data\\IGE\\bagherimaede\\LB.csv\", skiprows=2, header=None))\n",
    "rawdata1 = np.array(df1)\n",
    "rawdata2 = np.array(df2)"
   ]
  },
  {
   "cell_type": "code",
   "execution_count": 35,
   "metadata": {},
   "outputs": [
    {
     "name": "stdout",
     "output_type": "stream",
     "text": [
      "data1 shape: torch.Size([1219, 1500, 20])\n",
      "data2 shape: torch.Size([1377, 1500, 20])\n"
     ]
    }
   ],
   "source": [
    "seglength = 1500\n",
    "data1 = torch.from_numpy(split_to_epochs(rawdata1, seglength))\n",
    "data2 = torch.from_numpy(split_to_epochs(rawdata2, seglength))\n",
    "print(f\"data1 shape: {np.shape(data1)}\")\n",
    "print(f\"data2 shape: {np.shape(data2)}\")"
   ]
  },
  {
   "cell_type": "code",
   "execution_count": 36,
   "metadata": {},
   "outputs": [
    {
     "data": {
      "text/plain": [
       "torch.Size([2596, 1500, 20])"
      ]
     },
     "execution_count": 36,
     "metadata": {},
     "output_type": "execute_result"
    }
   ],
   "source": [
    "label1 = torch.ones((data1.shape[0], 1))\n",
    "label2 = torch.ones((data2.shape[0], 1)) + 1\n",
    "labels = torch.cat((label1, label2))\n",
    "data = torch.cat((data1, data2))\n",
    "data.shape"
   ]
  },
  {
   "cell_type": "code",
   "execution_count": 37,
   "metadata": {},
   "outputs": [],
   "source": [
    "X_train, X_test, y_train, y_test = train_test_split(data, labels, test_size=0.2, random_state=42)"
   ]
  },
  {
   "cell_type": "code",
   "execution_count": 43,
   "metadata": {},
   "outputs": [],
   "source": [
    "class LSTM(nn.Module):\n",
    "    def __init__(self, batch_size, segment_size, channel_count, num_classes, hidden_size, num_layers):\n",
    "        super(LSTM, self).__init__()\n",
    "        self.N = batch_size\n",
    "        self.T = segment_size\n",
    "        self.C = channel_count\n",
    "        self.hidden_size = hidden_size\n",
    "        self.num_layers = num_layers\n",
    "        self.lstm = nn.LSTM(input_size, hidden_size, num_layers, batch_first=True)\n",
    "        self.bn = nn.BatchNorm2d(hidden_size)\n",
    "        self.fc = nn.Linear(hidden_size, num_classes)\n",
    "\n",
    "    def forward(self, x):\n",
    "\n",
    "        lstm_out, (h, c) = self.lstm(x, None)\n",
    "        x = self.bn(lstm_out)\n",
    "        logits = self.fc(lstm_out[:, -1, :])\n",
    "        probas = F.softmax(logits, dim=1)\n",
    "        return probas"
   ]
  },
  {
   "cell_type": "code",
   "execution_count": 41,
   "metadata": {},
   "outputs": [],
   "source": [
    "model = LSTM(num_classes=2, input_size=1500 * 20, hidden_size=4, num_layers=2)"
   ]
  }
 ],
 "metadata": {
  "kernelspec": {
   "display_name": "base",
   "language": "python",
   "name": "python3"
  },
  "language_info": {
   "codemirror_mode": {
    "name": "ipython",
    "version": 3
   },
   "file_extension": ".py",
   "mimetype": "text/x-python",
   "name": "python",
   "nbconvert_exporter": "python",
   "pygments_lexer": "ipython3",
   "version": "3.9.13"
  },
  "orig_nbformat": 4
 },
 "nbformat": 4,
 "nbformat_minor": 2
}
