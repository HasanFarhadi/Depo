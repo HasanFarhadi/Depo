{
 "cells": [
  {
   "cell_type": "code",
   "execution_count": 73,
   "metadata": {},
   "outputs": [],
   "source": [
    "import os\n",
    "os.environ[\"KMP_DUPLICATE_LIB_OK\"]=\"TRUE\"\n"
   ]
  },
  {
   "cell_type": "code",
   "execution_count": 74,
   "metadata": {},
   "outputs": [],
   "source": [
    "import numpy as np\n",
    "import pandas as pd\n",
    "import scipy as sp\n",
    "import mne\n",
    "import keras\n",
    "import matplotlib.pyplot as plt\n",
    "import torch\n",
    "import tensorflow as tf\n",
    "\n",
    "from keras.models import Sequential\n",
    "from keras.layers import LSTM,Dense ,GRU,SimpleRNN,Conv1D,MaxPooling1D,Flatten , Dropout, BatchNormalization\n",
    "from keras.optimizers import Adam\n",
    "from sklearn.model_selection import train_test_split\n",
    "\n",
    "tf.compat.v1.disable_eager_execution()"
   ]
  },
  {
   "cell_type": "code",
   "execution_count": 75,
   "metadata": {},
   "outputs": [],
   "source": [
    "def PrePadding(data, seglength):\n",
    "    pad = (-len(data)) % seglength\n",
    "    l = np.concatenate((data,np.zeros((pad, len(data[0])))))\n",
    "    return l"
   ]
  },
  {
   "cell_type": "code",
   "execution_count": 88,
   "metadata": {},
   "outputs": [
    {
     "name": "stdout",
     "output_type": "stream",
     "text": [
      "raw data shape: (1881497, 20)\n",
      "segment list shape:(53, 36000, 20)\n"
     ]
    }
   ],
   "source": [
    "ARDF = pd.read_csv(r\"C:\\Users\\admin\\Desktop\\test excel\\LB.csv\", header= None, skiprows=2)\n",
    "AR = np.array(ARDF)\n",
    "print(f\"raw data shape: {np.shape(AR)}\")\n",
    "seglength = 36000\n",
    "newar = PrePadding(AR, seglength)\n",
    "IGEsegs = np.array(np.split(newar, seglength)).reshape(-1, seglength, 20)\n",
    "print(f\"segment list shape:{np.shape(IGEsegs)}\")\n",
    "IGE_labels = np.ones(np.shape(IGEsegs)[0]).reshape(-1)\n"
   ]
  },
  {
   "cell_type": "code",
   "execution_count": 81,
   "metadata": {},
   "outputs": [
    {
     "name": "stdout",
     "output_type": "stream",
     "text": [
      "raw data shape: (1964747, 20)\n",
      "segment list shape:(55, 36000, 20)\n"
     ]
    }
   ],
   "source": [
    "ARDF = pd.read_csv(r\"C:\\Users\\admin\\Desktop\\test excel\\pnes.csv\", header= None, skiprows=2)\n",
    "AR = np.array(ARDF)\n",
    "print(f\"raw data shape: {np.shape(AR)}\")\n",
    "seglength = 36000\n",
    "newar = PrePadding(AR, seglength)\n",
    "PNESsegs = np.array(np.split(newar, seglength)).reshape(-1, seglength, 20)\n",
    "print(f\"segment list shape:{np.shape(PNESsegs)}\")\n",
    "PNES_labels = np.zeros(np.shape(PNESsegs)[0]).reshape(-1)\n"
   ]
  },
  {
   "cell_type": "code",
   "execution_count": 101,
   "metadata": {},
   "outputs": [
    {
     "data": {
      "text/plain": [
       "array([1., 1., 1., 1., 1., 1., 1., 1., 1., 1., 1., 1., 1., 1., 1., 1., 1.,\n",
       "       1., 1., 1., 1., 1., 1., 1., 1., 1., 1., 1., 1., 1., 1., 1., 1., 1.,\n",
       "       1., 1., 1., 1., 1., 1., 1., 1., 1., 1., 1., 1., 1., 1., 1., 1., 1.,\n",
       "       1., 1., 0., 0., 0., 0., 0., 0., 0., 0., 0., 0., 0., 0., 0., 0., 0.,\n",
       "       0., 0., 0., 0., 0., 0., 0., 0., 0., 0., 0., 0., 0., 0., 0., 0., 0.,\n",
       "       0., 0., 0., 0., 0., 0., 0., 0., 0., 0., 0., 0., 0., 0., 0., 0., 0.,\n",
       "       0., 0., 0., 0., 0., 0.])"
      ]
     },
     "execution_count": 101,
     "metadata": {},
     "output_type": "execute_result"
    }
   ],
   "source": [
    "X = np.append(IGEsegs, PNESsegs, axis=0)\n",
    "y = np.append(IGE_labels, PNES_labels)"
   ]
  },
  {
   "cell_type": "code",
   "execution_count": 106,
   "metadata": {},
   "outputs": [],
   "source": [
    "X_train, X_test, y_train, y_test = train_test_split(X, y, train_size=0.8, random_state=42, stratify=y)"
   ]
  },
  {
   "cell_type": "code",
   "execution_count": 132,
   "metadata": {},
   "outputs": [
    {
     "name": "stdout",
     "output_type": "stream",
     "text": [
      "Model: \"model_4\"\n",
      "_________________________________________________________________\n",
      " Layer (type)                Output Shape              Param #   \n",
      "=================================================================\n",
      " input_18 (InputLayer)       [(None, 36000, 20)]       0         \n",
      "                                                                 \n",
      " simple_rnn_10 (SimpleRNN)   (None, 36000, 256)        70912     \n",
      "                                                                 \n",
      " flatten_6 (Flatten)         (None, 9216000)           0         \n",
      "                                                                 \n",
      " dense_6 (Dense)             (None, 3)                 27648003  \n",
      "                                                                 \n",
      "=================================================================\n",
      "Total params: 27,718,915\n",
      "Trainable params: 27,718,915\n",
      "Non-trainable params: 0\n",
      "_________________________________________________________________\n"
     ]
    }
   ],
   "source": [
    "inputs = tf.keras.Input(shape=(X_train.shape[1], 20))\n",
    "expand_dims = tf.expand_dims(inputs, axis=2)\n",
    "rnn = tf.keras.layers.SimpleRNN(256, return_sequences=True)(inputs)\n",
    "flatten = tf.keras.layers.Flatten()(rnn)\n",
    "outputs = tf.keras.layers.Dense(3, activation='softmax')(flatten)\n",
    "RNN_model = tf.keras.Model(inputs=inputs, outputs=outputs)\n",
    "RNN_model.summary()"
   ]
  },
  {
   "cell_type": "code",
   "execution_count": 133,
   "metadata": {},
   "outputs": [],
   "source": [
    "RNN_model.compile(\n",
    "    optimizer='adam',\n",
    "    loss='sparse_categorical_crossentropy',\n",
    "    metrics=['accuracy']\n",
    ")"
   ]
  },
  {
   "cell_type": "code",
   "execution_count": 134,
   "metadata": {},
   "outputs": [
    {
     "name": "stdout",
     "output_type": "stream",
     "text": [
      "Train on 68 samples, validate on 18 samples\n",
      "Epoch 1/50\n",
      "68/68 [==============================] - ETA: 0s - loss: 174.9854 - accuracy: 0.2647   "
     ]
    },
    {
     "name": "stderr",
     "output_type": "stream",
     "text": [
      "c:\\Users\\admin\\anaconda3\\lib\\site-packages\\keras\\engine\\training_v1.py:2333: UserWarning: `Model.state_updates` will be removed in a future version. This property should not be used in TensorFlow 2.0, as `updates` are applied automatically.\n",
      "  updates = self.state_updates\n"
     ]
    },
    {
     "name": "stdout",
     "output_type": "stream",
     "text": [
      "68/68 [==============================] - 182s 3s/sample - loss: 174.9854 - accuracy: 0.2647 - val_loss: 101.2273 - val_accuracy: 0.6111\n",
      "Epoch 2/50\n",
      "68/68 [==============================] - 204s 3s/sample - loss: 392.0991 - accuracy: 0.5735 - val_loss: 205.6927 - val_accuracy: 0.3889\n",
      "Epoch 3/50\n",
      "68/68 [==============================] - 207s 3s/sample - loss: 256.5256 - accuracy: 0.6176 - val_loss: 841.4971 - val_accuracy: 0.6111\n",
      "Epoch 4/50\n"
     ]
    },
    {
     "ename": "",
     "evalue": "",
     "output_type": "error",
     "traceback": [
      "\u001b[1;31mCanceled future for execute_request message before replies were done"
     ]
    },
    {
     "ename": "",
     "evalue": "",
     "output_type": "error",
     "traceback": [
      "\u001b[1;31mThe Kernel crashed while executing code in the the current cell or a previous cell. Please review the code in the cell(s) to identify a possible cause of the failure. Click <a href='https://aka.ms/vscodeJupyterKernelCrash'>here</a> for more info. View Jupyter <a href='command:jupyter.viewOutput'>log</a> for further details."
     ]
    }
   ],
   "source": [
    "\n",
    "history_RNN = RNN_model.fit(\n",
    "    X_train,\n",
    "    y_train,\n",
    "    validation_split=0.2,\n",
    "    batch_size=32,\n",
    "    epochs=50,\n",
    "    callbacks=[\n",
    "        tf.keras.callbacks.EarlyStopping(\n",
    "            monitor='val_loss',\n",
    "            patience=5,\n",
    "            restore_best_weights=True\n",
    "        )\n",
    "    ]\n",
    ")"
   ]
  }
 ],
 "metadata": {
  "kernelspec": {
   "display_name": "base",
   "language": "python",
   "name": "python3"
  },
  "language_info": {
   "codemirror_mode": {
    "name": "ipython",
    "version": 3
   },
   "file_extension": ".py",
   "mimetype": "text/x-python",
   "name": "python",
   "nbconvert_exporter": "python",
   "pygments_lexer": "ipython3",
   "version": "3.9.13"
  },
  "orig_nbformat": 4,
  "vscode": {
   "interpreter": {
    "hash": "610a6f344c2137faf927ea819c63f6cee33a2c04455044b28099f39fe9722347"
   }
  }
 },
 "nbformat": 4,
 "nbformat_minor": 2
}
